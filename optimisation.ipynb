{
 "cells": [
  {
   "cell_type": "code",
   "execution_count": null,
   "metadata": {},
   "outputs": [],
   "source": [
    "from pprint import pprint\n",
    "from time import time\n",
    "import logging\n",
    "from sklearn.feature_extraction.text import TfidfTransformer\n",
    "from sklearn.linear_model import LogisticRegression\n",
    "from sklearn.model_selection import RandomizedSearchCV\n",
    "from sklearn.pipeline import Pipeline\n",
    "import joblib\n",
    "import numpy as np\n",
    "\n",
    "logging.basicConfig(level=logging.INFO,\n",
    "                    format='%(asctime)s %(levelname)s %(message)s')\n",
    "\n",
    "pipeline = Pipeline([\n",
    "    ('logreg', LogisticRegression(C=1))\n",
    "])\n",
    "\n",
    "parameters = {\n",
    "    'logreg__C': (np.arange(0.0, 10.0, 0.01))\n",
    "}\n",
    "\n",
    "if __name__ == \"__main__\":\n",
    "\n",
    "\n",
    "    test = joblib.load('./all_mp_2018_hashtags.allx')\n",
    "    x = test.toarray()\n",
    "    test_y = joblib.load('./all_health_topic_labels.y')\n",
    "    y = list(test_y.values())\n",
    "\n",
    "    useful_columns = []\n",
    "    for i in range(0, x.shape[1]):\n",
    "        result = np.where(x[:, i] > 0)\n",
    "        if 20 < len(result[0]) < 500:\n",
    "            useful_columns.append(i)\n",
    "\n",
    "    useful_x = x[:, useful_columns]\n",
    "\n",
    "    x_tfidf = TfidfTransformer().fit_transform(useful_x)\n",
    "\n",
    "    grid_search = RandomizedSearchCV(pipeline, parameters, cv=5,\n",
    "                                     n_jobs=4, verbose=1)\n",
    "\n",
    "    print(\"Performing grid search...\")\n",
    "    print(\"pipeline:\", [name for name, _ in pipeline.steps])\n",
    "    print(\"parameters:\")\n",
    "    pprint(parameters)\n",
    "    t0 = time()\n",
    "    grid_search.fit(x_tfidf.toarray(), y)\n",
    "    print(\"done in %0.3fs\" % (time() - t0))\n",
    "    print()\n",
    "\n",
    "    print(\"Best score: %0.3f\" % grid_search.best_score_)\n",
    "    print(\"Best parameters set:\")\n",
    "    best_parameters = grid_search.best_estimator_.get_params()\n",
    "    for param_name in sorted(parameters.keys()):\n",
    "        print(\"\\t%s: %r\" % (param_name, best_parameters[param_name]))\n"
   ]
  }
 ],
 "metadata": {
  "kernelspec": {
   "display_name": "Python 3",
   "language": "python",
   "name": "python3"
  },
  "language_info": {
   "codemirror_mode": {
    "name": "ipython",
    "version": 3
   },
   "file_extension": ".py",
   "mimetype": "text/x-python",
   "name": "python",
   "nbconvert_exporter": "python",
   "pygments_lexer": "ipython3",
   "version": "3.7.3"
  }
 },
 "nbformat": 4,
 "nbformat_minor": 2
}
